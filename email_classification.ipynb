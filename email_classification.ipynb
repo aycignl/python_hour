{
 "cells": [
  {
   "cell_type": "raw",
   "metadata": {},
   "source": [
    "Gönül Aycı\n",
    "Python Saati #94\n",
    "16 July 2019"
   ]
  },
  {
   "cell_type": "code",
   "execution_count": 1,
   "metadata": {},
   "outputs": [
    {
     "name": "stderr",
     "output_type": "stream",
     "text": [
      "/Library/Frameworks/Python.framework/Versions/3.6/lib/python3.6/site-packages/sklearn/ensemble/weight_boosting.py:29: DeprecationWarning: numpy.core.umath_tests is an internal NumPy module and should not be imported. It will be removed in a future NumPy release.\n",
      "  from numpy.core.umath_tests import inner1d\n"
     ]
    }
   ],
   "source": [
    "import os\n",
    "import time\n",
    "import itertools\n",
    "import numpy as np\n",
    "from collections import Counter\n",
    "import matplotlib.pyplot as plt\n",
    "\n",
    "from sklearn import tree\n",
    "from sklearn.svm import LinearSVC\n",
    "from sklearn.naive_bayes import MultinomialNB\n",
    "from sklearn.neighbors import KNeighborsClassifier  \n",
    "from sklearn.linear_model import LogisticRegression\n",
    "from sklearn.ensemble import RandomForestClassifier, AdaBoostClassifier\n",
    "from sklearn.metrics import accuracy_score, f1_score, precision_score, recall_score, confusion_matrix, precision_recall_fscore_support, classification_report\n"
   ]
  },
  {
   "cell_type": "code",
   "execution_count": 2,
   "metadata": {},
   "outputs": [],
   "source": [
    "start = time.time()\n",
    "\n",
    "# read a given file for training\n",
    "# content of the email starts from the 3rd row of the file\n",
    "\n",
    "def read_mail_paths(path_directory):\n",
    "    mail_paths = []\n",
    "    for f in os.listdir(path_directory):\n",
    "        mail_paths.append(os.path.join(path_directory, f))    \n",
    "        \n",
    "    return mail_paths\n"
   ]
  },
  {
   "cell_type": "code",
   "execution_count": 3,
   "metadata": {},
   "outputs": [],
   "source": [
    "# constants\n",
    "# training, test dataset paths, \n",
    "# the number of training and test data sets\n",
    "\n",
    "train_paths = '/Users/brain/Desktop/academic/yeterlik/data/train_emails'\n",
    "test_paths = '/Users/brain/Desktop/academic/yeterlik/data/test_emails'\n",
    "no_of_training_set = len(read_mail_paths(train_paths))\n",
    "no_of_test_set = len(read_mail_paths(test_paths))\n"
   ]
  },
  {
   "cell_type": "code",
   "execution_count": 4,
   "metadata": {},
   "outputs": [],
   "source": [
    "# this function returns word_list with their frequency\n",
    "# I use this function to construct feature matrix for training and test data sets\n",
    "\n",
    "def prepare_words(path1):\n",
    "    mail_paths = read_mail_paths(path1)\n",
    "    print('Successful to read paths of a dataset...')\n",
    "    \n",
    "    all_words = []       \n",
    "    for mails in mail_paths:    \n",
    "        with open(mails) as mail:\n",
    "            for i, line in enumerate(mail):\n",
    "                if i == 2: \n",
    "                    words = line.split()\n",
    "                    all_words += words\n",
    "    \n",
    "    candidate_words_dictionary = Counter(all_words)\n",
    "\n",
    "    # remove words from candidate_words_dictionary whether \n",
    "    # the string consists of non-alphabetic characters,\n",
    "    # invalid words,\n",
    "    # and if a length of a word equal to one \n",
    "    # (such as punctuation, meaningless words, and so on).\n",
    "    for item in list(candidate_words_dictionary):\n",
    "        if len(item) == 1: \n",
    "            del candidate_words_dictionary[item]\n",
    "        elif item.isalpha() == False:\n",
    "            del candidate_words_dictionary[item]\n",
    "            \n",
    "    candidate_words_dictionary = candidate_words_dictionary.most_common(len(candidate_words_dictionary))\n",
    "\n",
    "    return candidate_words_dictionary\n"
   ]
  },
  {
   "cell_type": "code",
   "execution_count": 5,
   "metadata": {},
   "outputs": [
    {
     "name": "stdout",
     "output_type": "stream",
     "text": [
      "Successful to read paths of a dataset...\n"
     ]
    }
   ],
   "source": [
    "# this function returns input for classifiers \n",
    "# input is a feature matrix \n",
    "# that is constructed by using term frequency method\n",
    "\n",
    "valid_word_dictionary = prepare_words(train_paths)\n",
    "\n",
    "def extract_features(path2): \n",
    "    # read given files for training and test\n",
    "    mail_paths = read_mail_paths(path2)\n",
    "\n",
    "    # create a feature matrix \n",
    "    features_matrix = np.zeros((len(mail_paths), len(valid_word_dictionary)))\n",
    "    mail_id = 0\n",
    "    \n",
    "    for mails in mail_paths:\n",
    "        with open(mails) as mail:\n",
    "            for i, line in enumerate(mail):\n",
    "                if i == 2:\n",
    "                    words = line.split()\n",
    "                    for word in words:\n",
    "                        word_id = 0\n",
    "                        for i, x in enumerate(valid_word_dictionary):\n",
    "                            if x[0] == word:\n",
    "                                word_id = i\n",
    "                                # we can also use Boolean matrix\n",
    "#                                 features_matrix[mail_id, word_id] = 1\n",
    "                                \n",
    "                                # we use term frequency of each word\n",
    "                                features_matrix[mail_id, word_id] = words.count(word)\n",
    "        mail_id += 1     \n",
    "    return features_matrix\n"
   ]
  },
  {
   "cell_type": "code",
   "execution_count": 8,
   "metadata": {},
   "outputs": [],
   "source": [
    "# Create a dictionary of words with its frequency\n",
    "\n",
    "def train_classifier_model(train_paths):\n",
    "    train_matrix = extract_features(train_paths)\n",
    "   \n",
    "    print('Successful to extract features for training data...')\n",
    "\n",
    "    # Prepare feature vectors per training email and its labels\n",
    "    # 240 --> legitimate: 1\n",
    "    # 240 --> spam: 0\n",
    "\n",
    "    train_labels = np.zeros(no_of_training_set)\n",
    "    train_labels[:int(np.divide(no_of_training_set, 2))] = 1\n",
    "\n",
    "    model6 = RandomForestClassifier(n_estimators=40, random_state = 42, n_jobs=-1)\n",
    "    model6.fit(train_matrix, train_labels)\n",
    "\n",
    "    return model6\n",
    "    "
   ]
  },
  {
   "cell_type": "code",
   "execution_count": 9,
   "metadata": {},
   "outputs": [],
   "source": [
    "# test a model using three selected supervised learning algorithm\n",
    "\n",
    "def test_classifier_model(test_paths):\n",
    "    test_matrix = extract_features(test_paths)\n",
    "    print('Successful to extract features for test data...')\n",
    "\n",
    "    # Prepare feature vectors per test email and its labels\n",
    "    test_labels = np.zeros(no_of_test_set)\n",
    "    test_labels[:int(np.divide(no_of_test_set, 2))] = 1\n",
    "\n",
    "    model6 = train_classifier_model(train_paths)\n",
    "    print('Successful to train data...')\n",
    "    \n",
    "    prediction6 = model6.predict(test_matrix)\n",
    "    \n",
    "    return test_labels, prediction6    \n"
   ]
  },
  {
   "cell_type": "code",
   "execution_count": 10,
   "metadata": {},
   "outputs": [
    {
     "name": "stdout",
     "output_type": "stream",
     "text": [
      "Successful to extract features for test data...\n",
      "Successful to extract features for training data...\n",
      "Successful to train data...\n",
      "Successful to test data...\n",
      "total time:  1013.2684652805328\n"
     ]
    },
    {
     "data": {
      "text/plain": [
       "array([[236,   4],\n",
       "       [  8, 232]])"
      ]
     },
     "execution_count": 10,
     "metadata": {},
     "output_type": "execute_result"
    }
   ],
   "source": [
    "# test_labels, prediction1, prediction2, prediction3, prediction4, prediction5, prediction6, prediction7 = test_classifier_model(test_paths)\n",
    "test_labels, prediction6 = test_classifier_model(test_paths)\n",
    "print('Successful to test data...')\n",
    "\n",
    "done = time.time()\n",
    "elapsed = done - start\n",
    "print(\"total time: \", elapsed)\n",
    "\n",
    "confusion_matrix(test_labels, prediction6)"
   ]
  },
  {
   "cell_type": "code",
   "execution_count": 14,
   "metadata": {},
   "outputs": [
    {
     "name": "stdout",
     "output_type": "stream",
     "text": [
      "Accuracy Score:  0.975\n",
      "F1 Score:  0.9747899159663865\n",
      "Precision Score:  0.9830508474576272\n",
      "Recall Score:  0.9666666666666667\n"
     ]
    }
   ],
   "source": [
    "print(\"Accuracy Score: \", accuracy_score(test_labels, prediction6))\n",
    "print(\"F1 Score: \", f1_score(test_labels, prediction6))\n",
    "print(\"Precision Score: \", precision_score(test_labels, prediction6))\n",
    "print(\"Recall Score: \", recall_score(test_labels, prediction6))\n"
   ]
  },
  {
   "cell_type": "code",
   "execution_count": 17,
   "metadata": {},
   "outputs": [
    {
     "name": "stdout",
     "output_type": "stream",
     "text": [
      "Confusion matrix, without normalization\n"
     ]
    },
    {
     "data": {
      "image/png": "[encoded data removed]",
      "text/plain": [
       "<matplotlib.figure.Figure at 0x10fa95f28>"
      ]
     },
     "metadata": {},
     "output_type": "display_data"
    }
   ],
   "source": [
    "def plot_confusion_matrix(cm, classes,\n",
    "                          normalize=False,\n",
    "                          title='Confusion matrix',\n",
    "                          cmap=plt.cm.Blues):\n",
    " \n",
    "    if normalize:\n",
    "        cm = cm.astype('float') / cm.sum(axis=1)[:, np.newaxis]\n",
    "        #print(\"Normalized confusion matrix\")\n",
    "    else:\n",
    "        print('Confusion matrix, without normalization')\n",
    "\n",
    "\n",
    "    plt.imshow(cm, interpolation='nearest', cmap=cmap)\n",
    "    plt.title(title)\n",
    "    plt.colorbar()\n",
    "    tick_marks = np.arange(len(classes))\n",
    "    plt.xticks(tick_marks, classes, rotation=45)\n",
    "    plt.yticks(tick_marks, classes)\n",
    "\n",
    "    fmt = '.2f' if normalize else 'd'\n",
    "    thresh = cm.max() / 2.\n",
    "    for i, j in itertools.product(range(cm.shape[0]), range(cm.shape[1])):\n",
    "        plt.text(j, i, format(cm[i, j], fmt),\n",
    "                 horizontalalignment=\"center\",\n",
    "                 color=\"white\" if cm[i, j] > thresh else \"black\")\n",
    "\n",
    "    plt.tight_layout()\n",
    "    plt.ylabel('Actual')\n",
    "    plt.xlabel('Predicted')\n",
    "\n",
    "plt.figure()\n",
    "plot_confusion_matrix(confusion_matrix(test_labels, prediction6), classes=['0', '1'], normalize=False)\n",
    "plt.show()"
   ]
  }
 ],
 "metadata": {
  "kernelspec": {
   "display_name": "Python 3",
   "language": "python",
   "name": "python3"
  },
  "language_info": {
   "codemirror_mode": {
    "name": "ipython",
    "version": 3
   },
   "file_extension": ".py",
   "mimetype": "text/x-python",
   "name": "python",
   "nbconvert_exporter": "python",
   "pygments_lexer": "ipython3",
   "version": "3.6.0"
  }
 },
 "nbformat": 4,
 "nbformat_minor": 2
}
